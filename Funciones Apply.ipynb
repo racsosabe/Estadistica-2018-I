{
 "cells": [
  {
   "cell_type": "markdown",
   "metadata": {},
   "source": [
    "# Funciones Apply\n",
    "\n",
    "## Contexto\n",
    "\n",
    "En muchos lenguajes de programación con los que se trabaja de manera ardua el análisis de datos, estadística o análisis numérico, se deben usar algoritmos predeterminados acorde a cada problema; sin embargo, surge la disyuntiva principal: ¿Qué manera de implementar el algoritmo es la más eficiente?\n",
    "\n",
    "Para ello, se propuso crear funciones **nativas**, las cuales podrían usarse sin necesidad de implementarlas y tendrían un desempeño aceptable. Una vez que esta propuesta fuera tomada en cuenta, comenzaron a surgir diferentes usuarios de los lenguajes que obtendrían la forma de implementar los algoritmos de manera más eficiente que su forma nativa: Con esto surge la idea de comunidad para los lenguajes de programación. Python, por ejemplo, siempre tiene funciones nativas cuyo performance promedio es, por lo general, mejor que cualquier implementación que un usuario promedio pueda usar.\n",
    "\n",
    "Este concepto, de una manera un poco más avanzada, también fue aplicado en R, sobretodo porque este tipo de lenguajes de programación suelen ser robustos y con una ejecución pesada.\n",
    "\n",
    "## Familia de funciones Apply\n",
    "\n",
    "La familia de funciones `apply` fueron creadas con el fin de evitar los bucles explicitamente dentro del codigo en R. Se usa para aplicar funciones a una partición uniforme de un arreglo (o lista) de objetos.\n",
    "\n",
    "Con partición uniforme nos referimos a que en todos los elementos se manejará la misma selección de datos; mientras que las funciones que se pueden usar como argumentos son funciones nativas, de transformación o algunas otras vectorizadas diseñadas por el usuario.\n",
    "\n",
    "Hay muchas funciones en esta familia, entre ellas las más importantes son:\n",
    "\n",
    "- `apply`\n",
    "- `lapply`\n",
    "- `sapply`\n",
    "- `mapply`\n",
    "\n",
    "## Funcion Apply\n",
    "\n",
    "Es la principal función de la familia, opera sobre `arrays`. Los principales parámetros de esta función son:\n",
    "\n",
    "<center>`apply(X, MARGIN, FUN)`</center>\n",
    "\n",
    "Donde:\n",
    "\n",
    "- `X` es un array o una matriz si tiene 2 dimensiones\n",
    "- `MARGIN` es la selección que se hace de los elementos de la matriz: MARGIN=1 significa que se aplicará sobre las filas, `MARGIN=2` aplicará sobre las columnas y `MARGIN=c(1,2)` aplicará a tanto filas como columnas\n",
    "- `FUN` es la función que se aplicará a las selecciones.\n",
    "\n",
    "Ahora supongamos que generaremos una matriz aleatoria de $5 \\times 6$ y aplicaremos la función apply para obtener algunos datos:"
   ]
  },
  {
   "cell_type": "code",
   "execution_count": 75,
   "metadata": {},
   "outputs": [
    {
     "name": "stdout",
     "output_type": "stream",
     "text": [
      "           [,1]       [,2]       [,3]       [,4]       [,5]       [,6]\n",
      "[1,]  0.6517275 -0.2677514 -1.6082079  0.6966528 -0.8279822 -1.6247439\n",
      "[2,] -2.0306915  1.1317656  0.2606013  0.1437460 -1.1536057  0.9220256\n",
      "[3,]  0.3768053 -0.6406452 -0.6910837 -1.5265233  2.2641039  0.8583521\n",
      "[4,] -0.8424653 -0.1548293 -0.5960485 -0.6961922  1.4070634 -0.2982610\n",
      "[5,]  0.3775786  0.1887049  1.1519240  1.7263453  0.2293935 -1.1087681\n",
      "Las sumas por fila son:\n",
      "[1] -2.9803052 -0.7261587  0.6410092 -1.1807330  2.5651782\n",
      "[1] \"numeric\"\n",
      "La sumas por columna son:\n",
      "[1] -1.4670454  0.2572445 -1.4828149  0.3440285  1.9189729 -1.2513953\n",
      "[1] \"numeric\"\n",
      "Los maximos por fila son:\n",
      "[1] 0.6966528 1.1317656 2.2641039 1.4070634 1.7263453\n",
      "[1] \"numeric\"\n",
      "Los maximos por columna son:\n",
      "[1] 0.6517275 1.1317656 1.1519240 1.7263453 2.2641039 0.9220256\n",
      "[1] \"numeric\"\n"
     ]
    }
   ],
   "source": [
    "M <- matrix(rnorm(30),nrow=5,ncol=6) # RNORM genera 30 elementos de una distribución normal con media = 0 y desviacion estandar = 1\n",
    "print(M)\n",
    "# Si queremos la suma de todas las filas:\n",
    "Suma_por_filas <- apply(M,MARGIN=1,sum)\n",
    "cat(sprintf(\"Las sumas por fila son:\\n\"))\n",
    "print(Suma_por_filas)\n",
    "print(class(Suma_por_filas))\n",
    "# Si queremos la suma de todas las columnas:\n",
    "Suma_por_columnas <- apply(M,MARGIN=2,sum)\n",
    "cat(sprintf(\"La sumas por columna son:\\n\"))\n",
    "print(Suma_por_columnas)\n",
    "print(class(Suma_por_columnas))\n",
    "# Si queremos los valores maximos por fila:\n",
    "Max_por_filas <- apply(M,MARGIN=1,max)\n",
    "cat(sprintf(\"Los maximos por fila son:\\n\"))\n",
    "print(Max_por_filas)\n",
    "print(class(Max_por_filas))\n",
    "# Si queremos los valores maximos por columna:\n",
    "Max_por_columnas <- apply(M,MARGIN=2,max)\n",
    "cat(sprintf(\"Los maximos por columna son:\\n\"))\n",
    "print(Max_por_columnas)\n",
    "print(class(Max_por_columnas))"
   ]
  },
  {
   "cell_type": "markdown",
   "metadata": {},
   "source": [
    "Ahora, ¿Qué pasa si queremos la posición del máximo de cada fila o columna?\n",
    "\n",
    "Ya no nos servirá usar alguna función nativa, así que podremos definir nosotros la función `max_position`"
   ]
  },
  {
   "cell_type": "code",
   "execution_count": 74,
   "metadata": {},
   "outputs": [
    {
     "name": "stdout",
     "output_type": "stream",
     "text": [
      "            [,1]        [,2]       [,3]       [,4]       [,5]       [,6]\n",
      "[1,]  2.49551039 -0.67477347 -0.2362984 -1.1996117  0.1586882 -1.1580950\n",
      "[2,]  1.29786687 -0.37595572 -0.7253767  0.1554891 -1.4477336 -1.0914911\n",
      "[3,] -0.07987337 -0.47422462  0.9155899 -0.1784996  1.1538951 -0.3964608\n",
      "[4,]  0.41220411  0.63274043 -0.3432091  1.1892513 -0.1837801 -1.3455930\n",
      "[5,]  1.12132863 -0.05349911 -1.6211114  1.7186832 -0.2565127 -1.2914099\n",
      "Posiciones de los maximos por fila:\n",
      "[1] 1 1 5 4 4\n",
      "[1] \"integer\"\n",
      "Posiciones de los maximos por columna:\n",
      "[1] 1 4 3 5 3 3\n",
      "[1] \"integer\"\n"
     ]
    }
   ],
   "source": [
    "max_position <- function(x){\n",
    "    return(match(max(x),x)) # Devolvemos el primer indice tal que su valor en x sea igual al valor de max(x)\n",
    "}\n",
    "print(M)\n",
    "# Ahora si podemos obtener la posicion del maximo por fila\n",
    "Maxpos_por_fila <- apply(M,MARGIN=1,max_position)\n",
    "cat(sprintf(\"Posiciones de los maximos por fila:\\n\"))\n",
    "print(Maxpos_por_fila)\n",
    "print(class(Maxpos_por_fila))\n",
    "# Lo mismo para columnas\n",
    "Maxpos_por_columnas <- apply(M,MARGIN=2,max_position)\n",
    "cat(sprintf(\"Posiciones de los maximos por columna:\\n\"))\n",
    "print(Maxpos_por_columnas)\n",
    "print(class(Maxpos_por_columnas))"
   ]
  },
  {
   "cell_type": "markdown",
   "metadata": {},
   "source": [
    "Con esto pudimos ver una aplicación simple de `apply` sobre una matriz. Se pueden definir las funciones de manera vectorizada para poder usarlas como argumentos."
   ]
  },
  {
   "cell_type": "markdown",
   "metadata": {},
   "source": [
    "## Funcion Lapply\n",
    "\n",
    "Esta función es una variación de la función `apply` original, su principal diferencia es que esta vez trabajaremos todo como `listas`."
   ]
  },
  {
   "cell_type": "code",
   "execution_count": 32,
   "metadata": {},
   "outputs": [
    {
     "name": "stdout",
     "output_type": "stream",
     "text": [
      "[[1]]\n",
      "     [,1] [,2] [,3] [,4] [,5]\n",
      "[1,]   14   43   45   35   21\n",
      "[2,]   69   90   29   47    8\n",
      "[3,]   41   37   73   22   86\n",
      "[4,]   31   51   32   49   55\n",
      "\n",
      "[[2]]\n",
      "     [,1] [,2] [,3] [,4] [,5] [,6]\n",
      "[1,]   96   82   73   81   89   92\n",
      "[2,]   44   98  100   84   28   72\n",
      "[3,]   20   34   12   29   35   18\n",
      "[4,]   40   61   42   55    8   51\n",
      "[5,]   33   25   59   95    7   13\n",
      "\n",
      "[[3]]\n",
      "     [,1] [,2] [,3] [,4] [,5]\n",
      "[1,]   80   60  188   99  116\n",
      "[2,]  192   88   86  117   51\n",
      "[3,]   59  144  122   87   90\n",
      "\n"
     ]
    }
   ],
   "source": [
    "A <- matrix(sample(2:100,20,replace=F),nrow=4,ncol=5,byrow=T)\n",
    "B <- matrix(sample(2:100,30,replace=F),nrow=5,ncol=6,byrow=T)\n",
    "C <- matrix(sample(50:200,15,replace=F),nrow=3,ncol=5,byrow=T)\n",
    "Lista_de_matrices <- list(A,B,C)\n",
    "print(Lista_de_matrices)"
   ]
  },
  {
   "cell_type": "markdown",
   "metadata": {},
   "source": [
    "Notamos como ahora los elementos se ven con la notación `[[i]]`, esta es propia de las listas.\n",
    "\n",
    "Ahora, notemos que vamos a tratar a cada elemento de la lista de manera independiente, por lo que la función que usábamos antes para `apply` ya no será una selección de un elemento, sino una selección que se aplicará sobre varios elementos no necesariamente de la misma clase.\n",
    "\n",
    "Esta observación es muy importante, pues la función que usemos como argumento debe tener el objetivo de trabajar correctamente con cada elemento para no generar errores.\n",
    "\n",
    "Supongamos que hallaremos lo mismo que el último ejemplo con `apply`: la posicion del elemento con valor máximo del objeto, pero esta vez trabajaremos con la matriz completa, ya no solo con vectores. ¿Cómo poder hallar la solución?"
   ]
  },
  {
   "cell_type": "markdown",
   "metadata": {},
   "source": [
    "La manera más sencilla sería buscar en internet y foros cómo realizarlo; pero si uno desea aprender correctamente, primero debe experimentar con el lenguaje para ver su comportamiento e intentar formar una solución. Posteriormente, si no se halló solución o se halló una, buscar en internet por una solución (en caso no haya) o por una manera más eficiente de lograr el objetivo."
   ]
  },
  {
   "cell_type": "code",
   "execution_count": 35,
   "metadata": {},
   "outputs": [
    {
     "name": "stdout",
     "output_type": "stream",
     "text": [
      "[1] 6\n"
     ]
    }
   ],
   "source": [
    "# Primero veamos como trabaja la funcion match y max con una matriz:\n",
    "print(match(max(A),A))"
   ]
  },
  {
   "cell_type": "markdown",
   "metadata": {},
   "source": [
    "Comportamiento extraño, pero si nos damos cuenta, la función está analizando la matriz como si fuera un array formado por la concatenación de las columnas de `A`, así que ya podemos determinar la posición en coordenadas de la matriz:"
   ]
  },
  {
   "cell_type": "code",
   "execution_count": 72,
   "metadata": {},
   "outputs": [
    {
     "name": "stdout",
     "output_type": "stream",
     "text": [
      "[[1]]\n",
      "     [,1] [,2] [,3] [,4] [,5]\n",
      "[1,]   14   43   45   35   21\n",
      "[2,]   69   90   29   47    8\n",
      "[3,]   41   37   73   22   86\n",
      "[4,]   31   51   32   49   55\n",
      "\n",
      "[[2]]\n",
      "     [,1] [,2] [,3] [,4] [,5] [,6]\n",
      "[1,]   96   82   73   81   89   92\n",
      "[2,]   44   98  100   84   28   72\n",
      "[3,]   20   34   12   29   35   18\n",
      "[4,]   40   61   42   55    8   51\n",
      "[5,]   33   25   59   95    7   13\n",
      "\n",
      "[[3]]\n",
      "     [,1] [,2] [,3] [,4] [,5]\n",
      "[1,]   80   60  188   99  116\n",
      "[2,]  192   88   86  117   51\n",
      "[3,]   59  144  122   87   90\n",
      "\n",
      "Las coordenadas (fila-columna) de los maximos por matriz son:\n",
      "[[1]]\n",
      "[1] 2 2\n",
      "\n",
      "[[2]]\n",
      "[1] 2 3\n",
      "\n",
      "[[3]]\n",
      "[1] 2 1\n",
      "\n",
      "[1] \"list\"\n"
     ]
    }
   ],
   "source": [
    "transformar_a_xy <- function(a,A){\n",
    "    n <- dim(A)[1] # Extraemos la cantidad de filas de la matriz\n",
    "    a <- a-1 # Para trabajar \"nominalmente\" con indexacion 0 (para usar residuos y ubicar correctamente en la matriz)\n",
    "    # Si tiene posicion a en el vector concatenado, x = a mod n + 1, y = floor(a/n) + 1.\n",
    "    # El +1 es para devolver de indexacion 0 a indexacion 1\n",
    "    coord <- c((a %% n)+1,(a%/%n) + 1)\n",
    "    return(coord)\n",
    "}\n",
    "# Con esta subfuncion podemos diseñar max_position2:\n",
    "\n",
    "max_position2 <- function(A){\n",
    "    pos <- match(max(A),A)\n",
    "    return(transformar_a_xy(pos,A))\n",
    "}\n",
    "\n",
    "print(Lista_de_matrices)\n",
    "# Posiciones por matriz de maximos:\n",
    "Maximos_por_matriz <- lapply(Lista_de_matrices,max_position2)\n",
    "cat(sprintf(\"Las coordenadas (fila-columna) de los maximos por matriz son:\\n\"))\n",
    "print(Maximos_por_matriz)\n",
    "print(class(Maximos_por_matriz))"
   ]
  },
  {
   "cell_type": "markdown",
   "metadata": {},
   "source": [
    "Otra función que también es clásica es la selección de filas o columnas en particular, para esto usamos la función `[`, que es especial (especificado en la documentación de las funciones `apply`)."
   ]
  },
  {
   "cell_type": "code",
   "execution_count": 71,
   "metadata": {},
   "outputs": [
    {
     "name": "stdout",
     "output_type": "stream",
     "text": [
      "Primera columna de cada matriz:\n",
      "[[1]]\n",
      "[1] 14 69 41 31\n",
      "\n",
      "[[2]]\n",
      "[1] 96 44 20 40 33\n",
      "\n",
      "[[3]]\n",
      "[1]  80 192  59\n",
      "\n",
      "[1] \"list\"\n",
      "Primera fila de cada matriz:\n",
      "[[1]]\n",
      "[1] 14 43 45 35 21\n",
      "\n",
      "[[2]]\n",
      "[1] 96 82 73 81 89 92\n",
      "\n",
      "[[3]]\n",
      "[1]  80  60 188  99 116\n",
      "\n",
      "[1] \"list\"\n",
      "Intentamos tomar la fila 5 de cada matriz:\n"
     ]
    },
    {
     "ename": "ERROR",
     "evalue": "Error in FUN(X[[i]], ...): subíndice fuera de  los límites\n",
     "output_type": "error",
     "traceback": [
      "Error in FUN(X[[i]], ...): subíndice fuera de  los límites\nTraceback:\n",
      "1. lapply(Lista_de_matrices, \"[\", 5, )"
     ]
    }
   ],
   "source": [
    "# El uso de la función [ es como si se hiciera en un elemento cualquiera\n",
    "# Es decir, A[1,] selecciona toda la primera fila\n",
    "# A[,1] selecciona toda la primera columna\n",
    "\n",
    "# Seleccionamos la primera columna de cada matriz:\n",
    "Columnas <- lapply(Lista_de_matrices,\"[\", ,1)\n",
    "cat(sprintf(\"Primera columna de cada matriz:\\n\"))\n",
    "print(Columnas)\n",
    "print(class(Columnas))\n",
    "# Seleccionamos la primera fila de cada matriz:\n",
    "Filas <- lapply(Lista_de_matrices,\"[\",1,)\n",
    "cat(sprintf(\"Primera fila de cada matriz:\\n\"))\n",
    "print(Filas)\n",
    "print(class(Filas))\n",
    "# ¿Que tal si seleccionamos la fila numero 5 de las matrices?\n",
    "cat(sprintf(\"Intentamos tomar la fila 5 de cada matriz:\\n\"))\n",
    "Fila_5 <- lapply(Lista_de_matrices,\"[\",5,)\n",
    "print(Fila_5)"
   ]
  },
  {
   "cell_type": "markdown",
   "metadata": {},
   "source": [
    "Y este es el criterio que mencionamos al inicio: La función debe ser aplicable considerando los elementos a los que les será aplicada.\n",
    "\n",
    "Para poder obtener la última fila de cada matriz deberemos implementar una función que pueda sostener casos irregulares:"
   ]
  },
  {
   "cell_type": "code",
   "execution_count": 70,
   "metadata": {},
   "outputs": [
    {
     "name": "stdout",
     "output_type": "stream",
     "text": [
      "La ultima fila de cada columna es:\n",
      "[[1]]\n",
      "[1] 31 51 32 49 55\n",
      "\n",
      "[[2]]\n",
      "[1] 33 25 59 95  7 13\n",
      "\n",
      "[[3]]\n",
      "[1]  59 144 122  87  90\n",
      "\n",
      "[1] \"list\"\n"
     ]
    }
   ],
   "source": [
    "ultima_fila <- function(A){\n",
    "    return(A[dim(A)[1],])\n",
    "}\n",
    "# Obtenemos la ultima fila de cada matriz\n",
    "Last_row <- lapply(Lista_de_matrices,ultima_fila)\n",
    "cat(sprintf(\"La ultima fila de cada columna es:\\n\"))\n",
    "print(Last_row)\n",
    "print(class(Last_row))"
   ]
  },
  {
   "cell_type": "markdown",
   "metadata": {},
   "source": [
    "## Función Sapply\n",
    "\n",
    "Esta función es muy similar a `lapply`, pero la diferencia principal es que `sapply` automáticamente toma los datos del argumento, los procesa con la función deseada y la salida la devuelve pero en la estructura más simple que se pueda (se puede mantener la estructura original colocando como argumento extra `simplify=FALSE`) "
   ]
  },
  {
   "cell_type": "code",
   "execution_count": 64,
   "metadata": {},
   "outputs": [
    {
     "name": "stdout",
     "output_type": "stream",
     "text": [
      "[[1]]\n",
      "     [,1] [,2] [,3] [,4] [,5]\n",
      "[1,]   14   43   45   35   21\n",
      "[2,]   69   90   29   47    8\n",
      "[3,]   41   37   73   22   86\n",
      "[4,]   31   51   32   49   55\n",
      "\n",
      "[[2]]\n",
      "     [,1] [,2] [,3] [,4] [,5] [,6]\n",
      "[1,]   96   82   73   81   89   92\n",
      "[2,]   44   98  100   84   28   72\n",
      "[3,]   20   34   12   29   35   18\n",
      "[4,]   40   61   42   55    8   51\n",
      "[5,]   33   25   59   95    7   13\n",
      "\n",
      "[[3]]\n",
      "     [,1] [,2] [,3] [,4] [,5]\n",
      "[1,]   80   60  188   99  116\n",
      "[2,]  192   88   86  117   51\n",
      "[3,]   59  144  122   87   90\n",
      "\n",
      "Las coordenadas (fila-columna) de los maximos por matriz son:\n",
      "     [,1] [,2] [,3]\n",
      "[1,]    2    2    2\n",
      "[2,]    2    3    1\n",
      "[1] \"matrix\"\n"
     ]
    }
   ],
   "source": [
    "# Usemos los mismos ejemplos que en lapply:\n",
    "print(Lista_de_matrices)\n",
    "Maximos_por_matriz_sapply <- sapply(Lista_de_matrices,max_position2)\n",
    "cat(sprintf(\"Las coordenadas (fila-columna) de los maximos por matriz son:\\n\"))\n",
    "print(Maximos_por_matriz_sapply)\n",
    "print(class(Maximos_por_matriz_sapply))"
   ]
  },
  {
   "cell_type": "markdown",
   "metadata": {},
   "source": [
    "Notamos que ahora la clase ya no es `list`, sino `matrix`. Viendo los demás ejemplos, encontramos lo mismo:"
   ]
  },
  {
   "cell_type": "code",
   "execution_count": 69,
   "metadata": {},
   "outputs": [
    {
     "name": "stdout",
     "output_type": "stream",
     "text": [
      "Ultima fila de cada matriz:\n",
      "[[1]]\n",
      "[1] 31 51 32 49 55\n",
      "\n",
      "[[2]]\n",
      "[1] 33 25 59 95  7 13\n",
      "\n",
      "[[3]]\n",
      "[1]  59 144 122  87  90\n",
      "\n",
      "[1] \"list\"\n",
      " [1]  31  51  32  49  55  33  25  59  95   7  13  59 144 122  87  90\n"
     ]
    }
   ],
   "source": [
    "Last_row_sapply <- sapply(Lista_de_matrices,ultima_fila)\n",
    "cat(sprintf(\"Ultima fila de cada matriz:\\n\"))\n",
    "print(Last_row_sapply)\n",
    "print(class(Last_row_sapply))"
   ]
  },
  {
   "cell_type": "markdown",
   "metadata": {},
   "source": [
    "Ahora notamos que el comportamiento es que, si se devuelve un elemento único, intenta volver a un array o matriz si es posible, pero en caso contrario, mantiene la estructura de lista."
   ]
  },
  {
   "cell_type": "markdown",
   "metadata": {},
   "source": [
    "Hay mucho más que ver en el mundo de `apply`, pero esto es todo por ahora.\n",
    "\n",
    "## Referencias\n",
    "\n",
    "- [DataCamp Tutorials](https://www.datacamp.com/community/tutorials/r-tutorial-apply-family#codelapplycode)"
   ]
  }
 ],
 "metadata": {
  "kernelspec": {
   "display_name": "R",
   "language": "R",
   "name": "ir"
  },
  "language_info": {
   "codemirror_mode": "r",
   "file_extension": ".r",
   "mimetype": "text/x-r-source",
   "name": "R",
   "pygments_lexer": "r",
   "version": "3.4.1"
  }
 },
 "nbformat": 4,
 "nbformat_minor": 2
}
