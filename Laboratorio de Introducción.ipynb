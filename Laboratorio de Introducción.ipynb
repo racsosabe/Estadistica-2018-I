{
 "cells": [
  {
   "cell_type": "markdown",
   "metadata": {},
   "source": [
    "## R basico\n",
    "\n",
    "### Tipos de variable\n",
    "\n",
    "- Boolean\n",
    "- Integer\n",
    "- String\n",
    "- Float\n",
    "- Tipos compuestos -> Array VS Lista\n",
    "\n",
    "### Estructuras de control\n",
    "\n",
    "#### If-else\n",
    "\n",
    "```R\n",
    "x <- 105\n",
    "if(x >= 0 && x < 100){\n",
    "    print(x)\n",
    "    \n",
    "} else {\n",
    "    print(x+100)\n",
    "}\n",
    "```"
   ]
  },
  {
   "cell_type": "code",
   "execution_count": 11,
   "metadata": {},
   "outputs": [
    {
     "name": "stdout",
     "output_type": "stream",
     "text": [
      "[1] 300\n"
     ]
    }
   ],
   "source": [
    "x <- -200\n",
    "if(x >= 0 && x < 100){\n",
    "    print(x)\n",
    "} else if(x >= 100 && x < 300) {\n",
    "    print(x+100)\n",
    "} else {\n",
    "    print(x+500)\n",
    "}"
   ]
  },
  {
   "cell_type": "markdown",
   "metadata": {},
   "source": [
    "### Bucles\n",
    "\n",
    "#### For\n",
    "\n",
    "```R\n",
    "x <- c(2:10)\n",
    "\n",
    "for(i in x){\n",
    "    print(i)\n",
    "}\n",
    "```"
   ]
  },
  {
   "cell_type": "code",
   "execution_count": 12,
   "metadata": {},
   "outputs": [
    {
     "name": "stdout",
     "output_type": "stream",
     "text": [
      "[1] 2\n",
      "[1] 3\n",
      "[1] 4\n",
      "[1] 5\n",
      "[1] 6\n",
      "[1] 7\n",
      "[1] 8\n",
      "[1] 9\n",
      "[1] 10\n"
     ]
    }
   ],
   "source": [
    "x <- c(2:10)\n",
    "\n",
    "for(i in x){\n",
    "    print(i)\n",
    "}"
   ]
  },
  {
   "cell_type": "markdown",
   "metadata": {},
   "source": [
    "#### While\n",
    "\n",
    "```R\n",
    "x <- 0\n",
    "while(x < 10){\n",
    "    print(10*x)\n",
    "    x <- x + 1\n",
    "}\n",
    "```"
   ]
  },
  {
   "cell_type": "code",
   "execution_count": 15,
   "metadata": {},
   "outputs": [
    {
     "name": "stdout",
     "output_type": "stream",
     "text": [
      "[1] 0\n",
      "[1] 10\n",
      "[1] 20\n",
      "[1] 30\n",
      "[1] 40\n",
      "[1] 50\n",
      "[1] 60\n",
      "[1] 70\n",
      "[1] 80\n",
      "[1] 90\n"
     ]
    }
   ],
   "source": [
    "x <- 0\n",
    "while(x < 10){\n",
    "    print(10*x)\n",
    "    x <- x + 1\n",
    "}"
   ]
  },
  {
   "cell_type": "markdown",
   "metadata": {},
   "source": [
    "#### Arreglos\n",
    "\n",
    "- Indentación empieza en 1\n",
    "- Acceso directo por indice\n",
    "- Acceso por rango / Similar a Python\n",
    "- Acceso por condicion"
   ]
  },
  {
   "cell_type": "code",
   "execution_count": 16,
   "metadata": {},
   "outputs": [
    {
     "data": {
      "text/html": [
       "<ol class=list-inline>\n",
       "\t<li>3</li>\n",
       "\t<li>8</li>\n",
       "\t<li>13</li>\n",
       "\t<li>18</li>\n",
       "\t<li>23</li>\n",
       "\t<li>28</li>\n",
       "\t<li>33</li>\n",
       "\t<li>38</li>\n",
       "\t<li>43</li>\n",
       "\t<li>48</li>\n",
       "\t<li>53</li>\n",
       "\t<li>58</li>\n",
       "\t<li>63</li>\n",
       "\t<li>68</li>\n",
       "\t<li>73</li>\n",
       "\t<li>78</li>\n",
       "\t<li>83</li>\n",
       "\t<li>88</li>\n",
       "\t<li>93</li>\n",
       "\t<li>98</li>\n",
       "</ol>\n"
      ],
      "text/latex": [
       "\\begin{enumerate*}\n",
       "\\item 3\n",
       "\\item 8\n",
       "\\item 13\n",
       "\\item 18\n",
       "\\item 23\n",
       "\\item 28\n",
       "\\item 33\n",
       "\\item 38\n",
       "\\item 43\n",
       "\\item 48\n",
       "\\item 53\n",
       "\\item 58\n",
       "\\item 63\n",
       "\\item 68\n",
       "\\item 73\n",
       "\\item 78\n",
       "\\item 83\n",
       "\\item 88\n",
       "\\item 93\n",
       "\\item 98\n",
       "\\end{enumerate*}\n"
      ],
      "text/markdown": [
       "1. 3\n",
       "2. 8\n",
       "3. 13\n",
       "4. 18\n",
       "5. 23\n",
       "6. 28\n",
       "7. 33\n",
       "8. 38\n",
       "9. 43\n",
       "10. 48\n",
       "11. 53\n",
       "12. 58\n",
       "13. 63\n",
       "14. 68\n",
       "15. 73\n",
       "16. 78\n",
       "17. 83\n",
       "18. 88\n",
       "19. 93\n",
       "20. 98\n",
       "\n",
       "\n"
      ],
      "text/plain": [
       " [1]  3  8 13 18 23 28 33 38 43 48 53 58 63 68 73 78 83 88 93 98"
      ]
     },
     "metadata": {},
     "output_type": "display_data"
    }
   ],
   "source": [
    "x <- c(1:100)\n",
    "x[x %% 5 == 3]"
   ]
  }
 ],
 "metadata": {
  "kernelspec": {
   "display_name": "R",
   "language": "R",
   "name": "ir"
  },
  "language_info": {
   "codemirror_mode": "r",
   "file_extension": ".r",
   "mimetype": "text/x-r-source",
   "name": "R",
   "pygments_lexer": "r",
   "version": "3.4.2"
  }
 },
 "nbformat": 4,
 "nbformat_minor": 2
}
